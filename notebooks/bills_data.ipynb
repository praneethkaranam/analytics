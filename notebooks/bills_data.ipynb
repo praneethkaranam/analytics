{
 "cells": [
  {
   "cell_type": "code",
   "execution_count": 1,
   "metadata": {},
   "outputs": [
    {
     "data": {
      "text/plain": [
       "<pyspark.context.SparkContext at 0x235e5eac0f0>"
      ]
     },
     "execution_count": 1,
     "metadata": {},
     "output_type": "execute_result"
    }
   ],
   "source": [
    "from pyspark import SparkContext\n",
    "sc = SparkContext.getOrCreate()\n",
    "sc"
   ]
  },
  {
   "cell_type": "code",
   "execution_count": 1,
   "metadata": {
    "scrolled": true
   },
   "outputs": [
    {
     "data": {
      "text/plain": [
       "['Year,Bill No.,Short Title of the Bill,Date of Introduction,Debate / Passed in LS,Debate / Passed in RS,Referred to Committee / Report Presented,Assent Date/ Gazette Notification / Act No.,Synopsis,Status',\n",
       " '2016,XVII,\"THE SIKH GURDWARAS (AMENDMENT) BILL, 2016\",15/03/2016,25/04/2016,16/03/2016,NA,5/5/2016,NA,Assented',\n",
       " '2015,LXIII,\"THE DR. RAJENDRA PRASAD CENTRAL AGRICULTURAL UNIVERSITY BILL, 2016\",23/12/2015,11/5/2016,11/5/2016,NA,28/05/2016,NA,Assented',\n",
       " '2014,LIII,\"THE ANTI-HIJACKING BILL, 2016\",17/12/2014,9/5/2016,4/5/2016,NA,13/05/2016,NA,Assented',\n",
       " '2014,VI,\"THE DELHI HIGH COURT (AMENDMENT) BILL, 2015\",17/02/2014,5/8/2015,6/5/2015,NA,10/8/2015,NA,Assented',\n",
       " '2014,IV,\"THE CONSTITUTION (SCHEDULED CASTES) ORDERS (AMENDMENT) BILL, 2015\",11/2/2014,17/03/2015,24/02/2015,NA,20/03/2015,NA,Assented',\n",
       " '2013,XV,\"THE CONSTITUTION ( ONE HUNDRED AND NINETEENTH AMENDMENT) BILL, 2013\",18/12/2013,7/5/2015,6/5/2015,NA,28/05/2015,NA,Assented',\n",
       " '2013,LVII,\"THE REPRESENTATION OF THE PEOPLE (AMENDMENT AND VALIDATION) BILL, 2013\",26/08/2013,6/9/2013,27/08/2013,NA,20/09/2013,NA,Assented',\n",
       " '2013,XLIX,\"THE MERCHANT SHIPPING (SECOND AMENDMENT) BILL, 2014\",19/08/2013,2/12/2014,1/12/2014,NA,9/12/2014,NA,Assented',\n",
       " '2013,XLVI,\"THE REAL ESTATE (REGULATION AND DEVELOPMENT) BILL, 2016\",14/08/2013,15/03/2016,10/3/2016,NA,25/03/2016,NA,Assented']"
      ]
     },
     "execution_count": 1,
     "metadata": {},
     "output_type": "execute_result"
    }
   ],
   "source": [
    "data=sc.textFile(\"R:\\\\softwares\\\\rs_status_bill_passed_assent-1952-2016.csv\")\n",
    "data.take(10)"
   ]
  },
  {
   "cell_type": "code",
   "execution_count": 14,
   "metadata": {},
   "outputs": [
    {
     "data": {
      "text/plain": [
       "<pyspark.broadcast.Broadcast at 0x190b39b7c50>"
      ]
     },
     "execution_count": 14,
     "metadata": {},
     "output_type": "execute_result"
    }
   ],
   "source": [
    "header = sc.broadcast(data.first().strip().split(','))\n",
    "header"
   ]
  },
  {
   "cell_type": "code",
   "execution_count": 17,
   "metadata": {},
   "outputs": [
    {
     "data": {
      "text/plain": [
       "['Year,Bill No.,Short Title of the Bill,Date of Introduction,Debate / Passed in LS,Debate / Passed in RS,Referred to Committee / Report Presented,Assent Date/ Gazette Notification / Act No.,Synopsis,Status',\n",
       " '2016,XVII,\"THE SIKH GURDWARAS (AMENDMENT) BILL, 2016\",15/03/2016,25/04/2016,16/03/2016,NA,5/5/2016,NA,Assented',\n",
       " '2015,LXIII,\"THE DR. RAJENDRA PRASAD CENTRAL AGRICULTURAL UNIVERSITY BILL, 2016\",23/12/2015,11/5/2016,11/5/2016,NA,28/05/2016,NA,Assented']"
      ]
     },
     "execution_count": 17,
     "metadata": {},
     "output_type": "execute_result"
    }
   ],
   "source": [
    "data.take(3)"
   ]
  },
  {
   "cell_type": "code",
   "execution_count": 22,
   "metadata": {
    "scrolled": false
   },
   "outputs": [
    {
     "data": {
      "text/plain": [
       "[10, 10]"
      ]
     },
     "execution_count": 22,
     "metadata": {},
     "output_type": "execute_result"
    }
   ],
   "source": [
    "def getMappedData(row):\n",
    "    splitted = row.strip().split(',')\n",
    "    row = dict(zip(header.value, splitted))\n",
    "    return len(splitted)\n",
    "zipped_data = data.map(getMappedData)\n",
    "#zipped_data.take(10)\n",
    "d_intro = zipped_data.filter(lambda a: a<11)\n",
    "d_intro.take(10)"
   ]
  }
 ],
 "metadata": {
  "kernelspec": {
   "display_name": "Python 3",
   "language": "python",
   "name": "python3"
  },
  "language_info": {
   "codemirror_mode": {
    "name": "ipython",
    "version": 3
   },
   "file_extension": ".py",
   "mimetype": "text/x-python",
   "name": "python",
   "nbconvert_exporter": "python",
   "pygments_lexer": "ipython3",
   "version": "3.6.1"
  }
 },
 "nbformat": 4,
 "nbformat_minor": 2
}
