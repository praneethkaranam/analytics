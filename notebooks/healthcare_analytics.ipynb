{
 "cells": [
  {
   "cell_type": "code",
   "execution_count": 1,
   "metadata": {
    "collapsed": true
   },
   "outputs": [],
   "source": [
    "import os\n",
    "import sys\n",
    "import boto\n",
    "import ast\n",
    "from datetime import datetime\n",
    "HOME = os.environ.get('HOME')\n",
    "sys.path.append(HOME + \"/comscore_processing\")\n",
    "from utils.utils import apply_process_row, get_log_date,process_row\n",
    "from utils.log_processors import UserProcessor\n",
    "#from RDLogging.logging import RDLogger\n",
    "sc.addPyFile(HOME + \"/comscore_processing/utils.zip\")\n",
    "sc.addPyFile(HOME + \"/comscore_processing/RDLogging.zip\")\n",
    "from utils.constants import *\n",
    "from utils.utils import get_date_range,eval_dict\n",
    "from utils.session_aggregators import SessionAggregator\n",
    "from utils.dynamo_writer import record_log_date\n",
    "from utils.category_counts import process_category_combos\n",
    "from boto.dynamodb2.layer1 import DynamoDBConnection\n",
    "from utils.user_ids_by_site import write_user_ids_by_site\n",
    "from utils.parquet_writer import ParquetWriter,VISITOR_SCHEMA\n",
    "from boto.s3.connection import S3Connection\n",
    "from boto.s3.connection import OrdinaryCallingFormat\n",
    "from operator import add\n",
    "from utils.category_counts import site_combos_to_process\n",
    "import csv, io\n",
    "from urllib.parse import urlparse,parse_qs\n",
    "import argparse\n",
    "from utils.config import config\n",
    "from utils.utils import (\n",
    "        S3_FIRST_PASS_PATTERN, del_s3_dir, RDMSR_BUCKET,\n",
    "        get_date_range, parser, eval_dict,\n",
    "        combineLists,period_delta)"
   ]
  },
  {
   "cell_type": "code",
   "execution_count": 2,
   "metadata": {
    "collapsed": false
   },
   "outputs": [
    {
     "data": {
      "text/plain": [
       "['visitor_id',\n",
       " 'site',\n",
       " 'abandon_indicator',\n",
       " 'afternoon_visit_indicator',\n",
       " 'average_page_views_per_visit',\n",
       " 'average_visit_time_per_category',\n",
       " 'average_visit_time_per_day',\n",
       " 'average_visit_time_spent',\n",
       " 'bing_referral',\n",
       " 'browser',\n",
       " 'category_terms',\n",
       " 'closed_hc_popup',\n",
       " 'content_terms',\n",
       " 'date_of_last_order',\n",
       " 'date_of_last_payment_event',\n",
       " 'date_of_last_visit',\n",
       " 'days_since_last_abandon',\n",
       " 'days_since_last_customer_support_visit',\n",
       " 'ehid',\n",
       " 'email',\n",
       " 'epid',\n",
       " 'evening_visit_indicator',\n",
       " 'external_referrer_by_day',\n",
       " 'facebook_content_terms',\n",
       " 'facebook_content_terms_shared',\n",
       " 'facebook_referral',\n",
       " 'first_external_referrer_domain_to_site',\n",
       " 'first_internal_referrer_to_site',\n",
       " 'google_content_terms_shared',\n",
       " 'google_plus_content_terms',\n",
       " 'google_referrel',\n",
       " 'healthcare_conditions_selected',\n",
       " 'ip_address',\n",
       " 'ip_addresses',\n",
       " 'is_app_installed',\n",
       " 'is_bot',\n",
       " 'is_mobile',\n",
       " 'list_of_newsletters',\n",
       " 'lunch_visit_indicator',\n",
       " 'mean_time_between_visits',\n",
       " 'median_time_of_day_of_visits',\n",
       " 'morning_visit_indicator',\n",
       " 'newsletter_signup_indicator',\n",
       " 'night_owl_visit_indicator',\n",
       " 'number_days_since_first_visit',\n",
       " 'number_days_since_last_visit',\n",
       " 'number_of_order_abandons',\n",
       " 'number_of_orders',\n",
       " 'number_of_visits',\n",
       " 'operating_system',\n",
       " 'overall_category_coverage',\n",
       " 'page_views',\n",
       " 'page_views_per_category',\n",
       " 'pages_to_order',\n",
       " 'pinterest_content_terms',\n",
       " 'pinterest_content_terms_shared',\n",
       " 'pinterest_referral',\n",
       " 'ruid',\n",
       " 'search_terms',\n",
       " 'site_primary_visit_day_of_week',\n",
       " 'submitted_hc_popup',\n",
       " 'subscription_indicator',\n",
       " 'survey_taker_indicator',\n",
       " 'twitter_content_terms',\n",
       " 'twitter_content_terms_shared',\n",
       " 'twitter_referral',\n",
       " 'visit_time_by_browser',\n",
       " 'visit_total_time_spent',\n",
       " 'weekday_visit_indicator',\n",
       " 'weekend_visit_indicator',\n",
       " 'yahoo_referral']"
      ]
     },
     "execution_count": 2,
     "metadata": {},
     "output_type": "execute_result"
    }
   ],
   "source": [
    "sa = SessionAggregator(datetime(2016, 5, 23), \n",
    "        datetime(2016, 7, 3))\n",
    "from inspect import getmembers\n",
    "header = ['visitor_id', 'site']\n",
    "for member in getmembers(sa):\n",
    "    if callable(member[1]) and not member[0].startswith('_'):\n",
    "        header.append(member[0])\n",
    "header = sc.broadcast(header)\n",
    "header.value"
   ]
  },
  {
   "cell_type": "code",
   "execution_count": 3,
   "metadata": {
    "collapsed": false
   },
   "outputs": [],
   "source": [
    "s3_visitor_data = sc.textFile(S3_VISITOR_FINAL_PATTERN.format(site=\"rd\",start=\"2016-05-23\",end=\"2016-07-03\",source=\"parquet\"))\n",
    "#s3_visitor_data = sc.textFile(S3_VISITOR_FINAL_PATTERN.format(site=\"rd\",start=\"2016-06-11\",end=\"2016-06-12\",source=\"parquet\"))\n",
    "def getMappedData(header):\n",
    "    def innerGetMappedData(row):\n",
    "        splittedRow = row.split('\\t')\n",
    "        row = dict(zip(header.value[:len(splittedRow)], splittedRow))\n",
    "        return row\n",
    "    return innerGetMappedData\n",
    "\n",
    "def mapData(visitorFinalPassData):\n",
    "    vData = visitorFinalPassData.map(getMappedData(header)).filter(lambda x: x is not None)\n",
    "    return vData\n",
    "visitFinalData = mapData(s3_visitor_data)\n",
    "### VFD filter, submitted_hc_popup is date on which the user has submitted healthcare popup. Blank otherwise\n",
    "VFD=visitFinalData.filter(lambda x: x['submitted_hc_popup']!='')\n",
    "\n",
    "#VFD.coalesce(1).saveAsTextFile(path='s3n://rdmsr-anl/test_data/2016-05-24_to_2016-07-03_HC_Submitted_final_pass',\\\n",
    "#                         compressionCodecClass=\"org.apache.hadoop.io.compress.GzipCodec\")\n",
    "#VFDsample = VFD.sample(False,0.4)\n",
    "#VFD.saveAsTextFile(path='/home/analytics/testdata/2016-05-24_to_2016-07-03_HC_NOT_Submitted_final_pass',\\\n",
    "#                        compressionCodecClass=\"org.apache.hadoop.io.compress.GzipCodec\")"
   ]
  },
  {
   "cell_type": "code",
   "execution_count": 5,
   "metadata": {
    "collapsed": false
   },
   "outputs": [
    {
     "data": {
      "text/plain": [
       "[{'abandon_indicator': '0',\n",
       "  'afternoon_visit_indicator': '1',\n",
       "  'average_page_views_per_visit': '1.0',\n",
       "  'average_visit_time_per_category': 'health~healthy eating:1096',\n",
       "  'average_visit_time_per_day': '2016-06-23:1117',\n",
       "  'average_visit_time_spent': '1117.0',\n",
       "  'bing_referral': '0',\n",
       "  'browser': 'Chrome',\n",
       "  'category_terms': 'health~healthy eating:2:1096',\n",
       "  'closed_hc_popup': '2016-06-23',\n",
       "  'content_terms': ':1:1112,antioxidant:1:1112,best:1:1112,eating:1:1112,foods:1:1112,health:1:1112,healthy:1:1112,rich:1:1112',\n",
       "  'date_of_last_order': 'no orders',\n",
       "  'date_of_last_payment_event': 'no payments',\n",
       "  'date_of_last_visit': '2016-06-23',\n",
       "  'days_since_last_abandon': '0',\n",
       "  'days_since_last_customer_support_visit': '',\n",
       "  'ehid': 'no ehid',\n",
       "  'email': 'no email',\n",
       "  'epid': 'no epid',\n",
       "  'evening_visit_indicator': '1',\n",
       "  'external_referrer_by_day': '2016-06-23:www.google.co.in/www.google.co.in',\n",
       "  'facebook_content_terms': '',\n",
       "  'facebook_content_terms_shared': '',\n",
       "  'facebook_referral': '0',\n",
       "  'first_external_referrer_domain_to_site': 'google',\n",
       "  'first_internal_referrer_to_site': 'health/healthy-eating/best-antioxidant-rich-foods/',\n",
       "  'google_content_terms_shared': '',\n",
       "  'google_plus_content_terms': '',\n",
       "  'google_referrel': '2',\n",
       "  'healthcare_conditions_selected': 'Other Ailments',\n",
       "  'ip_address': '125.99.76.41',\n",
       "  'ip_addresses': '125.99.76.41',\n",
       "  'is_app_installed': 'N',\n",
       "  'is_bot': '0',\n",
       "  'is_mobile': '0',\n",
       "  'list_of_newsletters': '',\n",
       "  'lunch_visit_indicator': '0',\n",
       "  'mean_time_between_visits': '0',\n",
       "  'median_time_of_day_of_visits': 'afternoon',\n",
       "  'morning_visit_indicator': '1',\n",
       "  'newsletter_signup_indicator': '0',\n",
       "  'night_owl_visit_indicator': '1',\n",
       "  'number_days_since_first_visit': '',\n",
       "  'number_days_since_last_visit': '9',\n",
       "  'number_of_order_abandons': '',\n",
       "  'number_of_orders': '',\n",
       "  'number_of_visits': '1',\n",
       "  'operating_system': 'Windows 8.1',\n",
       "  'overall_category_coverage': '1',\n",
       "  'page_views': '1',\n",
       "  'page_views_per_category': ':1,health~healthy eating:2',\n",
       "  'pages_to_order': '0',\n",
       "  'pinterest_content_terms': '',\n",
       "  'pinterest_content_terms_shared': '',\n",
       "  'pinterest_referral': '0',\n",
       "  'ruid': 'b5c05903-5e39-f1ac-a6a6-6266dcd0f698undefined',\n",
       "  'search_terms': '',\n",
       "  'site': 'rd',\n",
       "  'site_primary_visit_day_of_week': '',\n",
       "  'submitted_hc_popup': '2016-06-23',\n",
       "  'subscription_indicator': '0',\n",
       "  'survey_taker_indicator': '',\n",
       "  'twitter_content_terms': '',\n",
       "  'twitter_content_terms_shared': '',\n",
       "  'twitter_referral': '0',\n",
       "  'visit_time_by_browser': 'PC / Windows 8.1 / Chrome 51.0.2704:1117',\n",
       "  'visit_total_time_spent': '1117',\n",
       "  'visitor_id': '20ce7f12-2090-4807-1014-014660649660',\n",
       "  'weekday_visit_indicator': '1',\n",
       "  'weekend_visit_indicator': '0',\n",
       "  'yahoo_referral': '0'}]"
      ]
     },
     "execution_count": 5,
     "metadata": {},
     "output_type": "execute_result"
    }
   ],
   "source": [
    "VFD.take(1)"
   ]
  },
  {
   "cell_type": "code",
   "execution_count": 26,
   "metadata": {
    "collapsed": false
   },
   "outputs": [
    {
     "data": {
      "text/plain": [
       "dict"
      ]
     },
     "execution_count": 26,
     "metadata": {},
     "output_type": "execute_result"
    }
   ],
   "source": [
    "### get the Keys from the Visitor Final Data, what's it for???\n",
    "def getkeys(row):\n",
    "    x = row.items()\n",
    "    vals_list = []\n",
    "    for k,v in x:\n",
    "        vals_list.append('\"'+k+'\"')\n",
    "    return ','.join(vals_list)\n",
    "vals = VFD.map(getkeys)\n",
    "### type(vals.take(1)[0]) == str, why not just output the header into a str?\n",
    "'''\n",
    "res = vals.take(1)[0]\n",
    "for key in header.value:\n",
    "    print(key in res)\n",
    "'''\n",
    "### will all return TRUE"
   ]
  },
  {
   "cell_type": "code",
   "execution_count": 31,
   "metadata": {
    "collapsed": false
   },
   "outputs": [],
   "source": [
    "''' john: \n",
    "This function return a list of values for each row in visitor final data.\n",
    "it set NULL for empty value;\n",
    "it also reorder and reformated the value for tag 'healthcare_conditions_selected';\n",
    "'''\n",
    "def getValues(row):\n",
    "    x = row.items()\n",
    "    vals_list = []\n",
    "    for k,v in x: ### loop each row with k:key and v:value pair.\n",
    "        if v:\n",
    "            if k == 'healthcare_conditions_selected':\n",
    "                conditions_list = ['Diabetes', 'COPD', 'High Cholesterol', 'Heart Disease', 'Allergy', 'Other Ailments']\n",
    "                selected_list = v.split(',')\n",
    "                prepared_conditions_list = []\n",
    "                if 'Diabetes' in selected_list:\n",
    "                    prepared_conditions_list.append('Diabetes')\n",
    "                else:\n",
    "                    prepared_conditions_list.append('Null')\n",
    "                if 'COPD' in selected_list:\n",
    "                    prepared_conditions_list.append('COPD')\n",
    "                else:\n",
    "                    prepared_conditions_list.append('Null')\n",
    "                if 'High Cholesterol' in selected_list:\n",
    "                    prepared_conditions_list.append('High Cholesterol')\n",
    "                else:\n",
    "                    prepared_conditions_list.append('Null')\n",
    "                if 'Heart Disease' in selected_list:\n",
    "                    prepared_conditions_list.append('Heart Disease')\n",
    "                else:\n",
    "                    prepared_conditions_list.append('Null')\n",
    "                if 'Allergy' in selected_list:\n",
    "                    prepared_conditions_list.append('Allergy')\n",
    "                else:\n",
    "                    prepared_conditions_list.append('Null')\n",
    "                if 'Other Ailments' in selected_list:\n",
    "                    prepared_conditions_list.append('Other Ailments')\n",
    "                else:\n",
    "                    prepared_conditions_list.append('Null')\n",
    "                v = ','.join(prepared_conditions_list)\n",
    "            vals_list.append('\"'+v+'\"')\n",
    "        else: vals_list.append('\"'+\"NULL\"+'\"')\n",
    "    return ','.join(vals_list)\n",
    "\n",
    "vals = VFD.map(getValues)\n",
    "vals.take(5)\n",
    "#vals_sample = vals.sample(False,0.001)\n",
    "#vals_sample.count()\n",
    "vals.coalesce(1).\\\n",
    "            saveAsTextFile('/home/analytics/testdata/hc_popup_fnlp_submitted')"
   ]
  },
  {
   "cell_type": "code",
   "execution_count": null,
   "metadata": {
    "collapsed": false
   },
   "outputs": [],
   "source": [
    "hc_not_submitted_users_sample.take(10)"
   ]
  },
  {
   "cell_type": "code",
   "execution_count": null,
   "metadata": {
    "collapsed": false
   },
   "outputs": [],
   "source": [
    "def getValues(row):\n",
    "    x = row.items()\n",
    "    vals_list = []\n",
    "    for k,v in x:\n",
    "        if k!='session_times':\n",
    "            vals_list.append(v)\n",
    "    return ','.join(vals_list)\n",
    "\n",
    "vals = VFD.map(getValues)\n",
    "hc_not_submitted_users_sample = vals.sample(False,0.001)\n",
    "hc_not_submitted_users_sample.coalesce(1).\\\n",
    "            saveAsTextFile('/home/analytics/testdata/2016-05-24_to_2016-07-03_HC_NOT_Sub_final_pass_sample_values_no_datetime')"
   ]
  },
  {
   "cell_type": "code",
   "execution_count": null,
   "metadata": {
    "collapsed": true
   },
   "outputs": [],
   "source": [
    "hc_submitted_users_sample.coalesce(1).\\\n",
    "            saveAsTextFile('/home/analytics/testdata/2016-05-24_to_2016-07-03_HC_Sub_final_pass_sample_values')"
   ]
  },
  {
   "cell_type": "code",
   "execution_count": null,
   "metadata": {
    "collapsed": true
   },
   "outputs": [],
   "source": [
    "hc_not_submitted_users_sample.coalesce(1).\\\n",
    "            saveAsTextFile(path='/home/analytics/testdata/2016-05-24_to_2016-07-03_HC_Submitted_final_pass_sample_2000_values',\\\n",
    "                        compressionCodecClass=\"org.apache.hadoop.io.compress.GzipCodec\")"
   ]
  },
  {
   "cell_type": "code",
   "execution_count": null,
   "metadata": {
    "collapsed": false
   },
   "outputs": [],
   "source": [
    "hc_submitted_users = sc.textFile('s3n://rdmsr-anl/test_data/2016-05-24_to_2016-07-03_HC_Submitted_final_pass')\n",
    "#hc_submitted_users = sc.textFile('s3n://rdmsr-anl/test_data/2016-05-22_to_2016-07-03_HC_Submitted')\n",
    "hc_submitted_users.count()"
   ]
  },
  {
   "cell_type": "code",
   "execution_count": null,
   "metadata": {
    "collapsed": false
   },
   "outputs": [],
   "source": [
    "hc_submitted_users = sc.textFile('s3n://rdmsr-anl/test_data/2016-05-24_to_2016-07-03_HC_Submitted_final_pass')\n",
    "sample = hc_submitted_users.sample(False,0.2)\n",
    "sample.coalesce(1).saveAsTextFile(path='/home/analytics/testdata/2016-05-24_to_2016-07-03_HC_Submitted_final_pass_sample_2000',\\\n",
    "                        compressionCodecClass=\"org.apache.hadoop.io.compress.GzipCodec\")"
   ]
  },
  {
   "cell_type": "code",
   "execution_count": null,
   "metadata": {
    "collapsed": false
   },
   "outputs": [],
   "source": [
    "hc_not_submitted_users = sc.textFile('/home/analytics/testdata/2016-05-24_to_2016-07-03_HC_NOT_Submitted_final_pass')\n",
    "sample = hc_not_submitted_users.sample(False,0.001)\n",
    "sample.coalesce(1).saveAsTextFile(path='/home/analytics/testdata/2016-05-24_to_2016-07-03_HC_NOT_Submitted_final_pass_sample_2000',\\\n",
    "                        compressionCodecClass=\"org.apache.hadoop.io.compress.GzipCodec\")"
   ]
  },
  {
   "cell_type": "code",
   "execution_count": null,
   "metadata": {
    "collapsed": false
   },
   "outputs": [],
   "source": [
    "hc_not_submitted_users = sc.textFile('/home/analytics/testdata/2016-05-24_to_2016-07-03_HC_NOT_Submitted_final_pass_sample_2000')\n",
    "def getValues(row):\n",
    "    row = ast.literal_eval(row)\n",
    "    return row\n",
    "\n",
    "vals = hc_not_submitted_users.map(getValues)\n",
    "vals.take(1)"
   ]
  },
  {
   "cell_type": "code",
   "execution_count": null,
   "metadata": {
    "collapsed": false
   },
   "outputs": [],
   "source": [
    "def get_average_visit_time_per_day(row):\n",
    "    row = ast.literal_eval(row)\n",
    "    if row['average_visit_time_per_day']:\n",
    "        dates = row['average_visit_time_per_day'].split(',')\n",
    "        for date1 in dates:\n",
    "            if len(date1.split(':'))>1:\n",
    "                time_str = date1.split(':')[1]\n",
    "                time_spent = int(time_str)/60\n",
    "                if time_spent < 5:\n",
    "                    return 5\n",
    "                elif 5 <= time_spent < 10:\n",
    "                    return 10\n",
    "                elif 10 <= time_spent < 15:\n",
    "                    return 15\n",
    "                else:\n",
    "                    return 20\n",
    "hcdates = hc_submitted_users.map(get_average_visit_time_per_day).filter(lambda x: x is not None)\n",
    "hcdatesList = hcdates.collect()\n",
    "from collections import Counter\n",
    "print(Counter(hcdatesList))"
   ]
  },
  {
   "cell_type": "code",
   "execution_count": null,
   "metadata": {
    "collapsed": false
   },
   "outputs": [],
   "source": [
    "def get_average_page_views_per_visit(row):\n",
    "    row = ast.literal_eval(row)\n",
    "\n",
    "    if row['average_page_views_per_visit'] != 'average_page_views_per_visit':\n",
    "        avg = float(row['average_page_views_per_visit'])\n",
    "        if avg < 5:\n",
    "            return 5\n",
    "        elif 5 <= avg < 10:\n",
    "            return 10\n",
    "        elif 10 <= avg < 15:\n",
    "            return 15\n",
    "        else:\n",
    "            return 20\n",
    "hcdates = hc_submitted_users.map(get_average_page_views_per_visit).filter(lambda x: x is not None)\n",
    "hcdatesList = hcdates.collect()\n",
    "from collections import Counter\n",
    "print(Counter(hcdatesList))"
   ]
  },
  {
   "cell_type": "code",
   "execution_count": null,
   "metadata": {
    "collapsed": false
   },
   "outputs": [],
   "source": [
    "def get_survey_taker_indicator(row):\n",
    "    row = ast.literal_eval(row)\n",
    "    return row['survey_taker_indicator'] if row['survey_taker_indicator'] else None\n",
    "hcdates = hc_submitted_users.map(get_date_of_last_order).filter(lambda x: x is not None)\n",
    "hcdatesList = hcdates.collect()\n",
    "from collections import Counter\n",
    "print(Counter(hcdatesList))"
   ]
  },
  {
   "cell_type": "code",
   "execution_count": null,
   "metadata": {
    "collapsed": false
   },
   "outputs": [],
   "source": [
    "def get_date_of_last_order(row):\n",
    "    row = ast.literal_eval(row)\n",
    "    return row['date_of_last_order'] if row['date_of_last_order']!='no orders' else None\n",
    "hcdates = hc_submitted_users.map(get_date_of_last_order).filter(lambda x: x is not None)\n",
    "hcdates.take(10)"
   ]
  },
  {
   "cell_type": "code",
   "execution_count": null,
   "metadata": {
    "collapsed": false
   },
   "outputs": [],
   "source": [
    "def get_most_frequest_date_of_visit(row):\n",
    "    row = ast.literal_eval(row)\n",
    "    if row['average_visit_time_per_day']:\n",
    "        dates = row['average_visit_time_per_day'].split(',')\n",
    "        for date1 in dates:\n",
    "            if len(date1.split(':'))>1:\n",
    "                date_v = date1.split(':')[0]\n",
    "                return datetime.strptime(date_v,'%Y-%m-%d').strftime('%A')\n",
    "hcdates = hc_submitted_users.map(get_most_frequest_date_of_visit).filter(lambda x: x is not None)\n",
    "hcdatesList = hcdates.collect()\n",
    "from collections import Counter\n",
    "print(Counter(hcdatesList))"
   ]
  },
  {
   "cell_type": "code",
   "execution_count": null,
   "metadata": {
    "collapsed": false
   },
   "outputs": [],
   "source": [
    "def get_most_frequent_referrer(row):\n",
    "    row = ast.literal_eval(row)\n",
    "    referrers = []\n",
    "    #row['bing_referral']!='bing_referral' and row['bing_referral']!='0'\n",
    "    #row['facebook_referral']!='facebook_referral' and row['facebook_referral']!='0'\n",
    "    #row['pinterest_referral']!='pinterest_referral' and row['pinterest_referral']!='0'\n",
    "    #row['twitter_referral']!='twitter_referral' and row['twitter_referral']!='0'\n",
    "    #row['yahoo_referral']!='yahoo_referral' and row['yahoo_referral']!='0'\n",
    "    referrers.append('bing') if (row['bing_referral'] and \\\n",
    "                 row['bing_referral']!='bing_referral' and row['bing_referral']!='0') else None\n",
    "    referrers.append('facebook') if (row['facebook_referral'] and \\\n",
    "                 row['facebook_referral']!='facebook_referral' and row['facebook_referral']!='0') else None\n",
    "    referrers.append('pinterest') if (row['pinterest_referral'] and \\\n",
    "                 row['pinterest_referral']!='pinterest_referral' and row['pinterest_referral']!='0') else None\n",
    "    referrers.append('twitter') if (row['twitter_referral'] and \\\n",
    "                 row['twitter_referral']!='twitter_referral' and row['twitter_referral']!='0') else None\n",
    "    referrers.append('yahoo') if (row['yahoo_referral'] and \\\n",
    "                 row['yahoo_referral']!='yahoo_referral' and row['yahoo_referral']!='0') else None\n",
    "    referrers.append('google') if (row['google_referrel'] and \\\n",
    "                 row['google_referrel']!='google_referrel' and row['google_referrel']!='0') else None\n",
    "    return referrers\n",
    "hcdates = hc_submitted_users.flatMap(get_most_frequent_referrer).filter(lambda x: x is not None)\n",
    "hcdatesList = hcdates.collect()\n",
    "from collections import Counter\n",
    "print(Counter(hcdatesList))"
   ]
  },
  {
   "cell_type": "code",
   "execution_count": null,
   "metadata": {
    "collapsed": false
   },
   "outputs": [],
   "source": [
    "def get_most_frequest_date_of_submission(row):\n",
    "    row = ast.literal_eval(row)\n",
    "    if row['submitted_hc_popup']:\n",
    "        dates = row['submitted_hc_popup'].split(',')\n",
    "        for date1 in dates:\n",
    "            if date1!='submitted_hc_popup':\n",
    "                return datetime.strptime(date1,'%Y-%m-%d').strftime('%A')\n",
    "hcdates = hc_submitted_users.map(get_most_frequest_date_of_visit).filter(lambda x: x is not None)\n",
    "hcdatesList = hcdates.collect()\n",
    "from collections import Counter\n",
    "print(Counter(hcdatesList))"
   ]
  },
  {
   "cell_type": "code",
   "execution_count": null,
   "metadata": {
    "collapsed": false
   },
   "outputs": [],
   "source": [
    "def get_most_time_spent_category_diabetes(row):\n",
    "    row = ast.literal_eval(row)\n",
    "    max_time = 0\n",
    "    cat = None\n",
    "    conditions_selected = row['healthcare_conditions_selected'].split(',')\n",
    "    if 'Diabetes' in conditions_selected:\n",
    "        if row['average_visit_time_per_category']:\n",
    "            cats_times = row['average_visit_time_per_category'].split(',')\n",
    "            for cat_time in cats_times:\n",
    "                time = cat_time.split(':')[1]\n",
    "                if time!=' microsite' and int(time) > max_time:\n",
    "                    cat = cat_time.split(':')[0]\n",
    "    return cat\n",
    "hcdates = hc_submitted_users.map(get_most_time_spent_category_diabetes).filter(lambda x: x is not None)\n",
    "hcdatesList = hcdates.collect()\n",
    "from collections import Counter\n",
    "print(Counter(hcdatesList))"
   ]
  },
  {
   "cell_type": "code",
   "execution_count": null,
   "metadata": {
    "collapsed": false
   },
   "outputs": [],
   "source": [
    "def get_date_of_last_order(row):\n",
    "    row = ast.literal_eval(row)\n",
    "    conditions = []\n",
    "    return [c for c in row['healthcare_conditions_selected'].split(',') if row['healthcare_conditions_selected'] ]\n",
    "hcdates = hc_submitted_users.flatMap(get_date_of_last_order).filter(lambda x: x is not None)\n",
    "hcdatesList = hcdates.collect()\n",
    "from collections import Counter\n",
    "print(Counter(hcdatesList))"
   ]
  },
  {
   "cell_type": "code",
   "execution_count": null,
   "metadata": {
    "collapsed": true
   },
   "outputs": [],
   "source": [
    "def get_date_of_last_order(row):\n",
    "    row = ast.literal_eval(row)\n",
    "    conditions = []\n",
    "    return [c for c in row['healthcare_conditions_selected'].split(',') if row['healthcare_conditions_selected'] ]\n",
    "hcdates = hc_submitted_users.flatMap(get_date_of_last_order).filter(lambda x: x is not None)\n",
    "hcdatesList = hcdates.collect()\n",
    "from collections import Counter\n",
    "print(Counter(hcdatesList))"
   ]
  },
  {
   "cell_type": "code",
   "execution_count": null,
   "metadata": {
    "collapsed": false
   },
   "outputs": [],
   "source": [
    "def get_frequent_time_of_visit(row):\n",
    "    row = ast.literal_eval(row)\n",
    "    frequent_hour = []\n",
    "    session_times = list(row['session_times'])\n",
    "    for s_time in session_times:\n",
    "        frequent_hour.append(s_time)\n",
    "    return frequent_hour\n",
    "hcdates = hc_submitted_users.map(get_frequent_time_of_visit).filter(lambda x: x is not None)\n",
    "hcdates.take(10)"
   ]
  }
 ],
 "metadata": {
  "kernelspec": {
   "display_name": "Python 3",
   "language": "python",
   "name": "python3"
  },
  "language_info": {
   "codemirror_mode": {
    "name": "ipython",
    "version": 3
   },
   "file_extension": ".py",
   "mimetype": "text/x-python",
   "name": "python",
   "nbconvert_exporter": "python",
   "pygments_lexer": "ipython3",
   "version": "3.4.3"
  }
 },
 "nbformat": 4,
 "nbformat_minor": 0
}
